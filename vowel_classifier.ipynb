{
 "cells": [
  {
   "cell_type": "markdown",
   "id": "ddbc43d7-826e-4d2e-be96-1deef693eb67",
   "metadata": {
    "tags": []
   },
   "source": [
    "# Danish vowels sound classification with convolutional neural network\n",
    "\n",
    "By Dimitra Christoforidi and Thea H. Nørgaard, MA Linguistics, Aarhus University"
   ]
  },
  {
   "cell_type": "code",
   "execution_count": 2,
   "id": "ad1f897c-ccf7-4a91-bc7a-f72fa0494bc9",
   "metadata": {
    "execution": {
     "iopub.execute_input": "2022-05-30T10:16:43.156766Z",
     "iopub.status.busy": "2022-05-30T10:16:43.156228Z",
     "iopub.status.idle": "2022-05-30T10:18:10.636072Z",
     "shell.execute_reply": "2022-05-30T10:18:10.633396Z",
     "shell.execute_reply.started": "2022-05-30T10:16:43.156706Z"
    },
    "tags": []
   },
   "outputs": [
    {
     "name": "stdout",
     "output_type": "stream",
     "text": [
      "Collecting tensorflow\n",
      "  Downloading tensorflow-2.9.1-cp39-cp39-manylinux_2_17_x86_64.manylinux2014_x86_64.whl (511.7 MB)\n",
      "\u001b[2K     \u001b[90m━━━━━━━━━━━━━━━━━━━━━━━━━━━━━━━━━━━━━━━\u001b[0m \u001b[32m511.7/511.7 MB\u001b[0m \u001b[31m5.5 MB/s\u001b[0m eta \u001b[36m0:00:00\u001b[0m00:01\u001b[0m00:01\u001b[0m\n",
      "\u001b[?25hCollecting tensorflow-gpu\n",
      "  Downloading tensorflow_gpu-2.9.1-cp39-cp39-manylinux_2_17_x86_64.manylinux2014_x86_64.whl (511.7 MB)\n",
      "\u001b[2K     \u001b[90m━━━━━━━━━━━━━━━━━━━━━━━━━━━━━━━━━━━━━━━\u001b[0m \u001b[32m511.7/511.7 MB\u001b[0m \u001b[31m5.3 MB/s\u001b[0m eta \u001b[36m0:00:00\u001b[0m00:01\u001b[0m00:01\u001b[0m\n",
      "\u001b[?25hCollecting tensorflow-io\n",
      "  Downloading tensorflow_io-0.26.0-cp39-cp39-manylinux_2_12_x86_64.manylinux2010_x86_64.whl (25.9 MB)\n",
      "\u001b[2K     \u001b[90m━━━━━━━━━━━━━━━━━━━━━━━━━━━━━━━━━━━━━━━━\u001b[0m \u001b[32m25.9/25.9 MB\u001b[0m \u001b[31m24.5 MB/s\u001b[0m eta \u001b[36m0:00:00\u001b[0m00:01\u001b[0m00:01\u001b[0m\n",
      "\u001b[?25hRequirement already satisfied: matplotlib in /opt/conda/lib/python3.9/site-packages (3.5.1)\n",
      "Requirement already satisfied: protobuf<3.20,>=3.9.2 in /opt/conda/lib/python3.9/site-packages (from tensorflow) (3.19.4)\n",
      "Requirement already satisfied: typing-extensions>=3.6.6 in /opt/conda/lib/python3.9/site-packages (from tensorflow) (4.1.1)\n",
      "Collecting absl-py>=1.0.0\n",
      "  Downloading absl_py-1.0.0-py3-none-any.whl (126 kB)\n",
      "\u001b[2K     \u001b[90m━━━━━━━━━━━━━━━━━━━━━━━━━━━━━━━━━━━━━━━\u001b[0m \u001b[32m126.7/126.7 KB\u001b[0m \u001b[31m1.4 MB/s\u001b[0m eta \u001b[36m0:00:00\u001b[0ma \u001b[36m0:00:01\u001b[0m\n",
      "\u001b[?25hCollecting tensorboard<2.10,>=2.9\n",
      "  Downloading tensorboard-2.9.0-py3-none-any.whl (5.8 MB)\n",
      "\u001b[2K     \u001b[90m━━━━━━━━━━━━━━━━━━━━━━━━━━━━━━━━━━━━━━━━\u001b[0m \u001b[32m5.8/5.8 MB\u001b[0m \u001b[31m40.1 MB/s\u001b[0m eta \u001b[36m0:00:00\u001b[0m:00:01\u001b[0m\n",
      "\u001b[?25hCollecting grpcio<2.0,>=1.24.3\n",
      "  Downloading grpcio-1.46.3-cp39-cp39-manylinux_2_17_x86_64.manylinux2014_x86_64.whl (4.4 MB)\n",
      "\u001b[2K     \u001b[90m━━━━━━━━━━━━━━━━━━━━━━━━━━━━━━━━━━━━━━━━\u001b[0m \u001b[32m4.4/4.4 MB\u001b[0m \u001b[31m37.4 MB/s\u001b[0m eta \u001b[36m0:00:00\u001b[0m:00:01\u001b[0m\n",
      "\u001b[?25hCollecting keras<2.10.0,>=2.9.0rc0\n",
      "  Downloading keras-2.9.0-py2.py3-none-any.whl (1.6 MB)\n",
      "\u001b[2K     \u001b[90m━━━━━━━━━━━━━━━━━━━━━━━━━━━━━━━━━━━━━━━━\u001b[0m \u001b[32m1.6/1.6 MB\u001b[0m \u001b[31m16.3 MB/s\u001b[0m eta \u001b[36m0:00:00\u001b[0m:00:01\u001b[0m\n",
      "\u001b[?25hCollecting astunparse>=1.6.0\n",
      "  Downloading astunparse-1.6.3-py2.py3-none-any.whl (12 kB)\n",
      "Requirement already satisfied: packaging in /opt/conda/lib/python3.9/site-packages (from tensorflow) (21.3)\n",
      "Collecting libclang>=13.0.0\n",
      "  Downloading libclang-14.0.1-py2.py3-none-manylinux1_x86_64.whl (14.5 MB)\n",
      "\u001b[2K     \u001b[90m━━━━━━━━━━━━━━━━━━━━━━━━━━━━━━━━━━━━━━━━\u001b[0m \u001b[32m14.5/14.5 MB\u001b[0m \u001b[31m27.7 MB/s\u001b[0m eta \u001b[36m0:00:00\u001b[0m00:01\u001b[0m00:01\u001b[0m\n",
      "\u001b[?25hCollecting opt-einsum>=2.3.2\n",
      "  Downloading opt_einsum-3.3.0-py3-none-any.whl (65 kB)\n",
      "\u001b[2K     \u001b[90m━━━━━━━━━━━━━━━━━━━━━━━━━━━━━━━━━━━━━━━\u001b[0m \u001b[32m65.5/65.5 KB\u001b[0m \u001b[31m390.4 kB/s\u001b[0m eta \u001b[36m0:00:00\u001b[0ma \u001b[36m0:00:01\u001b[0m\n",
      "\u001b[?25hCollecting flatbuffers<2,>=1.12\n",
      "  Downloading flatbuffers-1.12-py2.py3-none-any.whl (15 kB)\n",
      "Requirement already satisfied: six>=1.12.0 in /opt/conda/lib/python3.9/site-packages (from tensorflow) (1.16.0)\n",
      "Requirement already satisfied: setuptools in /opt/conda/lib/python3.9/site-packages (from tensorflow) (61.2.0)\n",
      "Collecting keras-preprocessing>=1.1.1\n",
      "  Downloading Keras_Preprocessing-1.1.2-py2.py3-none-any.whl (42 kB)\n",
      "\u001b[2K     \u001b[90m━━━━━━━━━━━━━━━━━━━━━━━━━━━━━━━━━━━━━━━━\u001b[0m \u001b[32m42.6/42.6 KB\u001b[0m \u001b[31m1.2 MB/s\u001b[0m eta \u001b[36m0:00:00\u001b[0m\n",
      "\u001b[?25hCollecting google-pasta>=0.1.1\n",
      "  Downloading google_pasta-0.2.0-py3-none-any.whl (57 kB)\n",
      "\u001b[2K     \u001b[90m━━━━━━━━━━━━━━━━━━━━━━━━━━━━━━━━━━━━━━━━\u001b[0m \u001b[32m57.5/57.5 KB\u001b[0m \u001b[31m3.8 MB/s\u001b[0m eta \u001b[36m0:00:00\u001b[0m\n",
      "\u001b[?25hCollecting wrapt>=1.11.0\n",
      "  Downloading wrapt-1.14.1-cp39-cp39-manylinux_2_5_x86_64.manylinux1_x86_64.manylinux_2_17_x86_64.manylinux2014_x86_64.whl (77 kB)\n",
      "\u001b[2K     \u001b[90m━━━━━━━━━━━━━━━━━━━━━━━━━━━━━━━━━━━━━━━\u001b[0m \u001b[32m77.8/77.8 KB\u001b[0m \u001b[31m257.0 kB/s\u001b[0m eta \u001b[36m0:00:00\u001b[0ma \u001b[36m0:00:01\u001b[0m\n",
      "\u001b[?25hCollecting h5py>=2.9.0\n",
      "  Downloading h5py-3.7.0-cp39-cp39-manylinux_2_12_x86_64.manylinux2010_x86_64.whl (4.5 MB)\n",
      "\u001b[2K     \u001b[90m━━━━━━━━━━━━━━━━━━━━━━━━━━━━━━━━━━━━━━━━\u001b[0m \u001b[32m4.5/4.5 MB\u001b[0m \u001b[31m22.5 MB/s\u001b[0m eta \u001b[36m0:00:00\u001b[0m:00:01\u001b[0m\n",
      "\u001b[?25hCollecting gast<=0.4.0,>=0.2.1\n",
      "  Downloading gast-0.4.0-py3-none-any.whl (9.8 kB)\n",
      "Collecting termcolor>=1.1.0\n",
      "  Downloading termcolor-1.1.0.tar.gz (3.9 kB)\n",
      "  Preparing metadata (setup.py) ... \u001b[?25ldone\n",
      "\u001b[?25hCollecting tensorflow-io-gcs-filesystem>=0.23.1\n",
      "  Downloading tensorflow_io_gcs_filesystem-0.26.0-cp39-cp39-manylinux_2_12_x86_64.manylinux2010_x86_64.whl (2.4 MB)\n",
      "\u001b[2K     \u001b[90m━━━━━━━━━━━━━━━━━━━━━━━━━━━━━━━━━━━━━━━━\u001b[0m \u001b[32m2.4/2.4 MB\u001b[0m \u001b[31m8.7 MB/s\u001b[0m eta \u001b[36m0:00:00\u001b[0m0:00:01\u001b[0m\n",
      "\u001b[?25hCollecting tensorflow-estimator<2.10.0,>=2.9.0rc0\n",
      "  Downloading tensorflow_estimator-2.9.0-py2.py3-none-any.whl (438 kB)\n",
      "\u001b[2K     \u001b[90m━━━━━━━━━━━━━━━━━━━━━━━━━━━━━━━━━━━━━━━\u001b[0m \u001b[32m438.7/438.7 KB\u001b[0m \u001b[31m5.5 MB/s\u001b[0m eta \u001b[36m0:00:00\u001b[0m00:01\u001b[0m\n",
      "\u001b[?25hRequirement already satisfied: numpy>=1.20 in /opt/conda/lib/python3.9/site-packages (from tensorflow) (1.22.3)\n",
      "Requirement already satisfied: cycler>=0.10 in /opt/conda/lib/python3.9/site-packages (from matplotlib) (0.11.0)\n",
      "Requirement already satisfied: python-dateutil>=2.7 in /opt/conda/lib/python3.9/site-packages (from matplotlib) (2.8.2)\n",
      "Requirement already satisfied: kiwisolver>=1.0.1 in /opt/conda/lib/python3.9/site-packages (from matplotlib) (1.4.2)\n",
      "Requirement already satisfied: pillow>=6.2.0 in /opt/conda/lib/python3.9/site-packages (from matplotlib) (9.0.1)\n",
      "Requirement already satisfied: pyparsing>=2.2.1 in /opt/conda/lib/python3.9/site-packages (from matplotlib) (3.0.7)\n",
      "Requirement already satisfied: fonttools>=4.22.0 in /opt/conda/lib/python3.9/site-packages (from matplotlib) (4.31.2)\n",
      "Requirement already satisfied: wheel<1.0,>=0.23.0 in /opt/conda/lib/python3.9/site-packages (from astunparse>=1.6.0->tensorflow) (0.37.1)\n",
      "Collecting google-auth<3,>=1.6.3\n",
      "  Downloading google_auth-2.6.6-py2.py3-none-any.whl (156 kB)\n",
      "\u001b[2K     \u001b[90m━━━━━━━━━━━━━━━━━━━━━━━━━━━━━━━━━━━━━━━\u001b[0m \u001b[32m156.7/156.7 KB\u001b[0m \u001b[31m3.6 MB/s\u001b[0m eta \u001b[36m0:00:00\u001b[0m00:01\u001b[0m\n",
      "\u001b[?25hRequirement already satisfied: werkzeug>=1.0.1 in /opt/conda/lib/python3.9/site-packages (from tensorboard<2.10,>=2.9->tensorflow) (2.1.0)\n",
      "Collecting google-auth-oauthlib<0.5,>=0.4.1\n",
      "  Downloading google_auth_oauthlib-0.4.6-py2.py3-none-any.whl (18 kB)\n",
      "Collecting tensorboard-data-server<0.7.0,>=0.6.0\n",
      "  Downloading tensorboard_data_server-0.6.1-py3-none-manylinux2010_x86_64.whl (4.9 MB)\n",
      "\u001b[2K     \u001b[90m━━━━━━━━━━━━━━━━━━━━━━━━━━━━━━━━━━━━━━━━\u001b[0m \u001b[32m4.9/4.9 MB\u001b[0m \u001b[31m18.8 MB/s\u001b[0m eta \u001b[36m0:00:00\u001b[0m:00:01\u001b[0m\n",
      "\u001b[?25hCollecting markdown>=2.6.8\n",
      "  Downloading Markdown-3.3.7-py3-none-any.whl (97 kB)\n",
      "\u001b[2K     \u001b[90m━━━━━━━━━━━━━━━━━━━━━━━━━━━━━━━━━━━━━━━\u001b[0m \u001b[32m97.8/97.8 KB\u001b[0m \u001b[31m723.6 kB/s\u001b[0m eta \u001b[36m0:00:00\u001b[0ma \u001b[36m0:00:01\u001b[0m\n",
      "\u001b[?25hRequirement already satisfied: requests<3,>=2.21.0 in /opt/conda/lib/python3.9/site-packages (from tensorboard<2.10,>=2.9->tensorflow) (2.27.1)\n",
      "Collecting tensorboard-plugin-wit>=1.6.0\n",
      "  Downloading tensorboard_plugin_wit-1.8.1-py3-none-any.whl (781 kB)\n",
      "\u001b[2K     \u001b[90m━━━━━━━━━━━━━━━━━━━━━━━━━━━━━━━━━━━━━━━\u001b[0m \u001b[32m781.3/781.3 KB\u001b[0m \u001b[31m2.7 MB/s\u001b[0m eta \u001b[36m0:00:00\u001b[0m00:01\u001b[0m\n",
      "\u001b[?25hCollecting rsa<5,>=3.1.4\n",
      "  Downloading rsa-4.8-py3-none-any.whl (39 kB)\n",
      "Collecting pyasn1-modules>=0.2.1\n",
      "  Downloading pyasn1_modules-0.2.8-py2.py3-none-any.whl (155 kB)\n",
      "\u001b[2K     \u001b[90m━━━━━━━━━━━━━━━━━━━━━━━━━━━━━━━━━━━━━\u001b[0m \u001b[32m155.3/155.3 KB\u001b[0m \u001b[31m995.4 kB/s\u001b[0m eta \u001b[36m0:00:00\u001b[0m00:01\u001b[0m\n",
      "\u001b[?25hCollecting cachetools<6.0,>=2.0.0\n",
      "  Downloading cachetools-5.2.0-py3-none-any.whl (9.3 kB)\n",
      "Collecting requests-oauthlib>=0.7.0\n",
      "  Downloading requests_oauthlib-1.3.1-py2.py3-none-any.whl (23 kB)\n",
      "Requirement already satisfied: importlib-metadata>=4.4 in /opt/conda/lib/python3.9/site-packages (from markdown>=2.6.8->tensorboard<2.10,>=2.9->tensorflow) (4.11.3)\n",
      "Requirement already satisfied: certifi>=2017.4.17 in /opt/conda/lib/python3.9/site-packages (from requests<3,>=2.21.0->tensorboard<2.10,>=2.9->tensorflow) (2021.10.8)\n",
      "Requirement already satisfied: urllib3<1.27,>=1.21.1 in /opt/conda/lib/python3.9/site-packages (from requests<3,>=2.21.0->tensorboard<2.10,>=2.9->tensorflow) (1.26.9)\n",
      "Requirement already satisfied: charset-normalizer~=2.0.0 in /opt/conda/lib/python3.9/site-packages (from requests<3,>=2.21.0->tensorboard<2.10,>=2.9->tensorflow) (2.0.12)\n",
      "Requirement already satisfied: idna<4,>=2.5 in /opt/conda/lib/python3.9/site-packages (from requests<3,>=2.21.0->tensorboard<2.10,>=2.9->tensorflow) (3.3)\n",
      "Requirement already satisfied: zipp>=0.5 in /opt/conda/lib/python3.9/site-packages (from importlib-metadata>=4.4->markdown>=2.6.8->tensorboard<2.10,>=2.9->tensorflow) (3.7.0)\n",
      "Requirement already satisfied: pyasn1<0.5.0,>=0.4.6 in /opt/conda/lib/python3.9/site-packages (from pyasn1-modules>=0.2.1->google-auth<3,>=1.6.3->tensorboard<2.10,>=2.9->tensorflow) (0.4.8)\n",
      "Requirement already satisfied: oauthlib>=3.0.0 in /opt/conda/lib/python3.9/site-packages (from requests-oauthlib>=0.7.0->google-auth-oauthlib<0.5,>=0.4.1->tensorboard<2.10,>=2.9->tensorflow) (3.2.0)\n",
      "Building wheels for collected packages: termcolor\n",
      "  Building wheel for termcolor (setup.py) ... \u001b[?25ldone\n",
      "\u001b[?25h  Created wheel for termcolor: filename=termcolor-1.1.0-py3-none-any.whl size=4848 sha256=de0da285816f75aef6564f67a855150a47a4d26ffcdcf5f8327419c68afd98e5\n",
      "  Stored in directory: /home/ucloud/.cache/pip/wheels/b6/0d/90/0d1bbd99855f99cb2f6c2e5ff96f8023fad8ec367695f7d72d\n",
      "Successfully built termcolor\n",
      "Installing collected packages: termcolor, tensorboard-plugin-wit, libclang, keras, flatbuffers, wrapt, tensorflow-io-gcs-filesystem, tensorflow-estimator, tensorboard-data-server, rsa, pyasn1-modules, opt-einsum, keras-preprocessing, h5py, grpcio, google-pasta, gast, cachetools, astunparse, absl-py, tensorflow-io, requests-oauthlib, markdown, google-auth, google-auth-oauthlib, tensorboard, tensorflow-gpu, tensorflow\n",
      "Successfully installed absl-py-1.0.0 astunparse-1.6.3 cachetools-5.2.0 flatbuffers-1.12 gast-0.4.0 google-auth-2.6.6 google-auth-oauthlib-0.4.6 google-pasta-0.2.0 grpcio-1.46.3 h5py-3.7.0 keras-2.9.0 keras-preprocessing-1.1.2 libclang-14.0.1 markdown-3.3.7 opt-einsum-3.3.0 pyasn1-modules-0.2.8 requests-oauthlib-1.3.1 rsa-4.8 tensorboard-2.9.0 tensorboard-data-server-0.6.1 tensorboard-plugin-wit-1.8.1 tensorflow-2.9.1 tensorflow-estimator-2.9.0 tensorflow-gpu-2.9.1 tensorflow-io-0.26.0 tensorflow-io-gcs-filesystem-0.26.0 termcolor-1.1.0 wrapt-1.14.1\n"
     ]
    }
   ],
   "source": [
    "# Install Tensorflow and Matplotlib\n",
    "!pip install tensorflow tensorflow-gpu tensorflow-io matplotlib"
   ]
  },
  {
   "cell_type": "code",
   "execution_count": 53,
   "id": "9c8de0e9-e6e6-40ff-889c-cab6a42cdf1f",
   "metadata": {
    "execution": {
     "iopub.execute_input": "2022-05-30T10:29:48.560719Z",
     "iopub.status.busy": "2022-05-30T10:29:48.560323Z",
     "iopub.status.idle": "2022-05-30T10:29:48.565313Z",
     "shell.execute_reply": "2022-05-30T10:29:48.564690Z",
     "shell.execute_reply.started": "2022-05-30T10:29:48.560692Z"
    },
    "tags": []
   },
   "outputs": [],
   "source": [
    "# Import required modules\n",
    "import subprocess\n",
    "import os\n",
    "from matplotlib import pyplot as plt\n",
    "import tensorflow as tf\n",
    "import tensorflow_io as tfio\n",
    "import zipfile"
   ]
  },
  {
   "cell_type": "code",
   "execution_count": 55,
   "id": "1cbaf670-b11d-4626-bd33-41bcff076079",
   "metadata": {
    "execution": {
     "iopub.execute_input": "2022-05-30T10:30:26.718822Z",
     "iopub.status.busy": "2022-05-30T10:30:26.718310Z",
     "iopub.status.idle": "2022-05-30T10:30:59.413358Z",
     "shell.execute_reply": "2022-05-30T10:30:59.411836Z",
     "shell.execute_reply.started": "2022-05-30T10:30:26.718764Z"
    },
    "tags": []
   },
   "outputs": [
    {
     "name": "stdout",
     "output_type": "stream",
     "text": [
      "Extracted all\n"
     ]
    }
   ],
   "source": [
    "# Unzip files\n",
    "zip_file = os.path.join('vowels','16bit_data.zip')\n",
    " \n",
    "try:\n",
    "    with zipfile.ZipFile(zip_file) as z:\n",
    "        z.extractall('vowels')\n",
    "        print(\"Extracted all\")\n",
    "except:\n",
    "    print(\"Invalid file\")"
   ]
  },
  {
   "cell_type": "markdown",
   "id": "c121669c-1103-48f7-bad3-b09c048448ef",
   "metadata": {},
   "source": [
    "### Create tensorflow dataset"
   ]
  },
  {
   "cell_type": "code",
   "execution_count": 56,
   "id": "f3c3993b-94c1-4083-b823-81bef4504587",
   "metadata": {
    "execution": {
     "iopub.execute_input": "2022-05-30T10:31:02.291401Z",
     "iopub.status.busy": "2022-05-30T10:31:02.290867Z",
     "iopub.status.idle": "2022-05-30T10:31:02.386227Z",
     "shell.execute_reply": "2022-05-30T10:31:02.385513Z",
     "shell.execute_reply.started": "2022-05-30T10:31:02.291343Z"
    },
    "tags": []
   },
   "outputs": [
    {
     "data": {
      "text/plain": [
       "68"
      ]
     },
     "execution_count": 56,
     "metadata": {},
     "output_type": "execute_result"
    }
   ],
   "source": [
    "# Define file paths for the two folders containing front or back vowels, respectively\n",
    "FRONT =  os.path.join('vowels', '16bit_data_3', 'front') \n",
    "BACK =  os.path.join('vowels', '16bit_data_3', 'back') \n",
    "\n",
    "# Load the wav-files in each directory into a tensorflow dataset\n",
    "front = tf.data.Dataset.list_files(FRONT+'/*.wav')\n",
    "back = tf.data.Dataset.list_files(BACK+'/*.wav')\n",
    "\n",
    "# Add labels to the front and back vowels\n",
    "front_lab = tf.data.Dataset.zip((front, tf.data.Dataset.from_tensor_slices(tf.ones(len(front)))))\n",
    "back_lab = tf.data.Dataset.zip((back, tf.data.Dataset.from_tensor_slices(tf.zeros(len(back)))))\n",
    "# Concatinate the data\n",
    "data = front_lab.concatenate(back_lab)\n",
    "len(data)"
   ]
  },
  {
   "cell_type": "markdown",
   "id": "4c02b957-2242-42e5-bd9f-7041a89e14e4",
   "metadata": {},
   "source": [
    "### Build dataloading function "
   ]
  },
  {
   "cell_type": "code",
   "execution_count": 57,
   "id": "def6b1a5-b1ef-44f9-8f6c-f6d534eb93b8",
   "metadata": {
    "execution": {
     "iopub.execute_input": "2022-05-30T10:31:03.972194Z",
     "iopub.status.busy": "2022-05-30T10:31:03.971666Z",
     "iopub.status.idle": "2022-05-30T10:31:04.108397Z",
     "shell.execute_reply": "2022-05-30T10:31:04.107757Z",
     "shell.execute_reply.started": "2022-05-30T10:31:03.972138Z"
    },
    "tags": []
   },
   "outputs": [
    {
     "data": {
      "image/png": "[encoded data removed]",
      "text/plain": [
       "<Figure size 432x288 with 1 Axes>"
      ]
     },
     "metadata": {
      "needs_background": "light"
     },
     "output_type": "display_data"
    }
   ],
   "source": [
    "def load_wav_16k_mono(filename):\n",
    "    '''Input: .wav-file. Output: .wav-file monochannel, 16000 Hz '''\n",
    "    # Load encoded wav file\n",
    "    file_contents = tf.io.read_file(filename)\n",
    "    # Decode wav (tensors by channels)\n",
    "    wav, sample_rate = tf.audio.decode_wav(file_contents, desired_channels = 1)\n",
    "    # Remove trailing axis\n",
    "    wav = tf.squeeze(wav, axis =-1)\n",
    "    sample_rate = tf.cast(sample_rate, dtype=tf.int64)\n",
    "    # Goes from 44100Hz to 16000Hz - amplitude of the audio signal\n",
    "    wav = tfio.audio.resample(wav, rate_in=sample_rate, rate_out=16000)\n",
    "    return wav\n",
    "\n",
    "# To demonstrate what the above function does\n",
    "## Load a single /i/\n",
    "single_i = os.path.join('vowels', '16bit_data_3', 'front', 'f01_01.wav')\n",
    "# Create and plot the new modified .wav-file\n",
    "wave = load_wav_16k_mono(single_i)\n",
    "plt.plot(wave)\n",
    "plt.show()"
   ]
  },
  {
   "cell_type": "markdown",
   "id": "0b940a5b-3a62-490c-aac9-ca715f594457",
   "metadata": {
    "execution": {
     "iopub.execute_input": "2022-05-11T12:14:17.071588Z",
     "iopub.status.busy": "2022-05-11T12:14:17.071081Z",
     "iopub.status.idle": "2022-05-11T12:14:17.080904Z",
     "shell.execute_reply": "2022-05-11T12:14:17.079717Z",
     "shell.execute_reply.started": "2022-05-11T12:14:17.071540Z"
    },
    "tags": []
   },
   "source": [
    "### Determine average length of the vowel recordings"
   ]
  },
  {
   "cell_type": "code",
   "execution_count": 58,
   "id": "0e497f00-efeb-443e-b5a8-039a72d620f6",
   "metadata": {
    "execution": {
     "iopub.execute_input": "2022-05-30T10:31:05.194840Z",
     "iopub.status.busy": "2022-05-30T10:31:05.194247Z",
     "iopub.status.idle": "2022-05-30T10:31:06.047425Z",
     "shell.execute_reply": "2022-05-30T10:31:06.046406Z",
     "shell.execute_reply.started": "2022-05-30T10:31:05.194784Z"
    },
    "tags": []
   },
   "outputs": [
    {
     "ename": "FailedPreconditionError",
     "evalue": "vowels/16bit_data_3/front/.ipynb_checkpoints; Is a directory [Op:ReadFile]",
     "output_type": "error",
     "traceback": [
      "\u001b[0;31m---------------------------------------------------------------------------\u001b[0m",
      "\u001b[0;31mFailedPreconditionError\u001b[0m                   Traceback (most recent call last)",
      "Input \u001b[0;32mIn [58]\u001b[0m, in \u001b[0;36m<cell line: 3>\u001b[0;34m()\u001b[0m\n\u001b[1;32m      2\u001b[0m lengths \u001b[38;5;241m=\u001b[39m []\n\u001b[1;32m      3\u001b[0m \u001b[38;5;28;01mfor\u001b[39;00m file \u001b[38;5;129;01min\u001b[39;00m os\u001b[38;5;241m.\u001b[39mlistdir(FRONT):\n\u001b[0;32m----> 4\u001b[0m     tensor_wave \u001b[38;5;241m=\u001b[39m \u001b[43mload_wav_16k_mono\u001b[49m\u001b[43m(\u001b[49m\u001b[43mos\u001b[49m\u001b[38;5;241;43m.\u001b[39;49m\u001b[43mpath\u001b[49m\u001b[38;5;241;43m.\u001b[39;49m\u001b[43mjoin\u001b[49m\u001b[43m(\u001b[49m\u001b[38;5;124;43m'\u001b[39;49m\u001b[38;5;124;43mvowels\u001b[39;49m\u001b[38;5;124;43m'\u001b[39;49m\u001b[43m,\u001b[49m\u001b[38;5;124;43m'\u001b[39;49m\u001b[38;5;124;43m16bit_data_3\u001b[39;49m\u001b[38;5;124;43m'\u001b[39;49m\u001b[43m,\u001b[49m\u001b[38;5;124;43m'\u001b[39;49m\u001b[38;5;124;43mfront\u001b[39;49m\u001b[38;5;124;43m'\u001b[39;49m\u001b[43m,\u001b[49m\u001b[43mfile\u001b[49m\u001b[43m)\u001b[49m\u001b[43m)\u001b[49m\n\u001b[1;32m      5\u001b[0m     lengths\u001b[38;5;241m.\u001b[39mappend(\u001b[38;5;28mlen\u001b[39m(tensor_wave))    \n\u001b[1;32m      6\u001b[0m \u001b[38;5;28;01mfor\u001b[39;00m file \u001b[38;5;129;01min\u001b[39;00m os\u001b[38;5;241m.\u001b[39mlistdir(BACK):\n",
      "Input \u001b[0;32mIn [57]\u001b[0m, in \u001b[0;36mload_wav_16k_mono\u001b[0;34m(filename)\u001b[0m\n\u001b[1;32m      2\u001b[0m \u001b[38;5;124;03m'''Input: .wav-file. Output: .wav-file monochannel, 16000 Hz '''\u001b[39;00m\n\u001b[1;32m      3\u001b[0m \u001b[38;5;66;03m# Load encoded wav file\u001b[39;00m\n\u001b[0;32m----> 4\u001b[0m file_contents \u001b[38;5;241m=\u001b[39m \u001b[43mtf\u001b[49m\u001b[38;5;241;43m.\u001b[39;49m\u001b[43mio\u001b[49m\u001b[38;5;241;43m.\u001b[39;49m\u001b[43mread_file\u001b[49m\u001b[43m(\u001b[49m\u001b[43mfilename\u001b[49m\u001b[43m)\u001b[49m\n\u001b[1;32m      5\u001b[0m \u001b[38;5;66;03m# Decode wav (tensors by channels)\u001b[39;00m\n\u001b[1;32m      6\u001b[0m wav, sample_rate \u001b[38;5;241m=\u001b[39m tf\u001b[38;5;241m.\u001b[39maudio\u001b[38;5;241m.\u001b[39mdecode_wav(file_contents, desired_channels \u001b[38;5;241m=\u001b[39m \u001b[38;5;241m1\u001b[39m)\n",
      "File \u001b[0;32m/opt/conda/lib/python3.9/site-packages/tensorflow/python/ops/io_ops.py:133\u001b[0m, in \u001b[0;36mread_file\u001b[0;34m(filename, name)\u001b[0m\n\u001b[1;32m     96\u001b[0m \u001b[38;5;129m@tf_export\u001b[39m(\u001b[38;5;124m\"\u001b[39m\u001b[38;5;124mio.read_file\u001b[39m\u001b[38;5;124m\"\u001b[39m, v1\u001b[38;5;241m=\u001b[39m[\u001b[38;5;124m\"\u001b[39m\u001b[38;5;124mio.read_file\u001b[39m\u001b[38;5;124m\"\u001b[39m, \u001b[38;5;124m\"\u001b[39m\u001b[38;5;124mread_file\u001b[39m\u001b[38;5;124m\"\u001b[39m])\n\u001b[1;32m     97\u001b[0m \u001b[38;5;28;01mdef\u001b[39;00m \u001b[38;5;21mread_file\u001b[39m(filename, name\u001b[38;5;241m=\u001b[39m\u001b[38;5;28;01mNone\u001b[39;00m):\n\u001b[1;32m     98\u001b[0m   \u001b[38;5;124;03m\"\"\"Reads the contents of file.\u001b[39;00m\n\u001b[1;32m     99\u001b[0m \n\u001b[1;32m    100\u001b[0m \u001b[38;5;124;03m  This operation returns a tensor with the entire contents of the input\u001b[39;00m\n\u001b[0;32m   (...)\u001b[0m\n\u001b[1;32m    131\u001b[0m \u001b[38;5;124;03m    A tensor of dtype \"string\", with the file contents.\u001b[39;00m\n\u001b[1;32m    132\u001b[0m \u001b[38;5;124;03m  \"\"\"\u001b[39;00m\n\u001b[0;32m--> 133\u001b[0m   \u001b[38;5;28;01mreturn\u001b[39;00m \u001b[43mgen_io_ops\u001b[49m\u001b[38;5;241;43m.\u001b[39;49m\u001b[43mread_file\u001b[49m\u001b[43m(\u001b[49m\u001b[43mfilename\u001b[49m\u001b[43m,\u001b[49m\u001b[43m \u001b[49m\u001b[43mname\u001b[49m\u001b[43m)\u001b[49m\n",
      "File \u001b[0;32m/opt/conda/lib/python3.9/site-packages/tensorflow/python/ops/gen_io_ops.py:566\u001b[0m, in \u001b[0;36mread_file\u001b[0;34m(filename, name)\u001b[0m\n\u001b[1;32m    564\u001b[0m   \u001b[38;5;28;01mpass\u001b[39;00m\n\u001b[1;32m    565\u001b[0m \u001b[38;5;28;01mtry\u001b[39;00m:\n\u001b[0;32m--> 566\u001b[0m   \u001b[38;5;28;01mreturn\u001b[39;00m \u001b[43mread_file_eager_fallback\u001b[49m\u001b[43m(\u001b[49m\n\u001b[1;32m    567\u001b[0m \u001b[43m      \u001b[49m\u001b[43mfilename\u001b[49m\u001b[43m,\u001b[49m\u001b[43m \u001b[49m\u001b[43mname\u001b[49m\u001b[38;5;241;43m=\u001b[39;49m\u001b[43mname\u001b[49m\u001b[43m,\u001b[49m\u001b[43m \u001b[49m\u001b[43mctx\u001b[49m\u001b[38;5;241;43m=\u001b[39;49m\u001b[43m_ctx\u001b[49m\u001b[43m)\u001b[49m\n\u001b[1;32m    568\u001b[0m \u001b[38;5;28;01mexcept\u001b[39;00m _core\u001b[38;5;241m.\u001b[39m_SymbolicException:\n\u001b[1;32m    569\u001b[0m   \u001b[38;5;28;01mpass\u001b[39;00m  \u001b[38;5;66;03m# Add nodes to the TensorFlow graph.\u001b[39;00m\n",
      "File \u001b[0;32m/opt/conda/lib/python3.9/site-packages/tensorflow/python/ops/gen_io_ops.py:589\u001b[0m, in \u001b[0;36mread_file_eager_fallback\u001b[0;34m(filename, name, ctx)\u001b[0m\n\u001b[1;32m    587\u001b[0m _inputs_flat \u001b[38;5;241m=\u001b[39m [filename]\n\u001b[1;32m    588\u001b[0m _attrs \u001b[38;5;241m=\u001b[39m \u001b[38;5;28;01mNone\u001b[39;00m\n\u001b[0;32m--> 589\u001b[0m _result \u001b[38;5;241m=\u001b[39m \u001b[43m_execute\u001b[49m\u001b[38;5;241;43m.\u001b[39;49m\u001b[43mexecute\u001b[49m\u001b[43m(\u001b[49m\u001b[38;5;124;43mb\u001b[39;49m\u001b[38;5;124;43m\"\u001b[39;49m\u001b[38;5;124;43mReadFile\u001b[39;49m\u001b[38;5;124;43m\"\u001b[39;49m\u001b[43m,\u001b[49m\u001b[43m \u001b[49m\u001b[38;5;241;43m1\u001b[39;49m\u001b[43m,\u001b[49m\u001b[43m \u001b[49m\u001b[43minputs\u001b[49m\u001b[38;5;241;43m=\u001b[39;49m\u001b[43m_inputs_flat\u001b[49m\u001b[43m,\u001b[49m\n\u001b[1;32m    590\u001b[0m \u001b[43m                           \u001b[49m\u001b[43mattrs\u001b[49m\u001b[38;5;241;43m=\u001b[39;49m\u001b[43m_attrs\u001b[49m\u001b[43m,\u001b[49m\u001b[43m \u001b[49m\u001b[43mctx\u001b[49m\u001b[38;5;241;43m=\u001b[39;49m\u001b[43mctx\u001b[49m\u001b[43m,\u001b[49m\u001b[43m \u001b[49m\u001b[43mname\u001b[49m\u001b[38;5;241;43m=\u001b[39;49m\u001b[43mname\u001b[49m\u001b[43m)\u001b[49m\n\u001b[1;32m    591\u001b[0m \u001b[38;5;28;01mif\u001b[39;00m _execute\u001b[38;5;241m.\u001b[39mmust_record_gradient():\n\u001b[1;32m    592\u001b[0m   _execute\u001b[38;5;241m.\u001b[39mrecord_gradient(\n\u001b[1;32m    593\u001b[0m       \u001b[38;5;124m\"\u001b[39m\u001b[38;5;124mReadFile\u001b[39m\u001b[38;5;124m\"\u001b[39m, _inputs_flat, _attrs, _result)\n",
      "File \u001b[0;32m/opt/conda/lib/python3.9/site-packages/tensorflow/python/eager/execute.py:54\u001b[0m, in \u001b[0;36mquick_execute\u001b[0;34m(op_name, num_outputs, inputs, attrs, ctx, name)\u001b[0m\n\u001b[1;32m     52\u001b[0m \u001b[38;5;28;01mtry\u001b[39;00m:\n\u001b[1;32m     53\u001b[0m   ctx\u001b[38;5;241m.\u001b[39mensure_initialized()\n\u001b[0;32m---> 54\u001b[0m   tensors \u001b[38;5;241m=\u001b[39m \u001b[43mpywrap_tfe\u001b[49m\u001b[38;5;241;43m.\u001b[39;49m\u001b[43mTFE_Py_Execute\u001b[49m\u001b[43m(\u001b[49m\u001b[43mctx\u001b[49m\u001b[38;5;241;43m.\u001b[39;49m\u001b[43m_handle\u001b[49m\u001b[43m,\u001b[49m\u001b[43m \u001b[49m\u001b[43mdevice_name\u001b[49m\u001b[43m,\u001b[49m\u001b[43m \u001b[49m\u001b[43mop_name\u001b[49m\u001b[43m,\u001b[49m\n\u001b[1;32m     55\u001b[0m \u001b[43m                                      \u001b[49m\u001b[43minputs\u001b[49m\u001b[43m,\u001b[49m\u001b[43m \u001b[49m\u001b[43mattrs\u001b[49m\u001b[43m,\u001b[49m\u001b[43m \u001b[49m\u001b[43mnum_outputs\u001b[49m\u001b[43m)\u001b[49m\n\u001b[1;32m     56\u001b[0m \u001b[38;5;28;01mexcept\u001b[39;00m core\u001b[38;5;241m.\u001b[39m_NotOkStatusException \u001b[38;5;28;01mas\u001b[39;00m e:\n\u001b[1;32m     57\u001b[0m   \u001b[38;5;28;01mif\u001b[39;00m name \u001b[38;5;129;01mis\u001b[39;00m \u001b[38;5;129;01mnot\u001b[39;00m \u001b[38;5;28;01mNone\u001b[39;00m:\n",
      "\u001b[0;31mFailedPreconditionError\u001b[0m: vowels/16bit_data_3/front/.ipynb_checkpoints; Is a directory [Op:ReadFile]"
     ]
    }
   ],
   "source": [
    "# Lengths of the whole dataset\n",
    "lengths = []\n",
    "for file in os.listdir(FRONT):\n",
    "    tensor_wave = load_wav_16k_mono(os.path.join('vowels','16bit_data_3','front',file))\n",
    "    lengths.append(len(tensor_wave))    \n",
    "for file in os.listdir(BACK):\n",
    "    tensor_wave = load_wav_16k_mono(os.path.join('vowels','16bit_data_3','back',file))\n",
    "    lengths.append(len(tensor_wave))\n",
    "lengths.sort()\n",
    "print(lengths)"
   ]
  },
  {
   "cell_type": "code",
   "execution_count": null,
   "id": "692a344e-9ef6-4c75-8b27-c824355105dc",
   "metadata": {
    "execution": {
     "iopub.status.busy": "2022-05-30T10:31:06.049180Z",
     "iopub.status.idle": "2022-05-30T10:31:06.049377Z",
     "shell.execute_reply": "2022-05-30T10:31:06.049285Z",
     "shell.execute_reply.started": "2022-05-30T10:31:06.049275Z"
    },
    "tags": []
   },
   "outputs": [],
   "source": [
    "# Lenghts of only the files below 10,000 frames\n",
    "short_lengths = []\n",
    "for length in lengths:\n",
    "    if length > 10000:\n",
    "        pass   \n",
    "    else:\n",
    "        short_lengths.append(length)\n",
    "short_lengths.sort()\n",
    "print(short_lengths)                        "
   ]
  },
  {
   "cell_type": "code",
   "execution_count": 59,
   "id": "fd7fd133-8962-4d14-a6e2-0f97e4c17f53",
   "metadata": {
    "execution": {
     "iopub.execute_input": "2022-05-30T10:31:06.171697Z",
     "iopub.status.busy": "2022-05-30T10:31:06.171406Z",
     "iopub.status.idle": "2022-05-30T10:31:06.178148Z",
     "shell.execute_reply": "2022-05-30T10:31:06.177472Z",
     "shell.execute_reply.started": "2022-05-30T10:31:06.171670Z"
    },
    "tags": []
   },
   "outputs": [
    {
     "data": {
      "text/plain": [
       "<tf.Tensor: shape=(), dtype=int32, numpy=5260>"
      ]
     },
     "execution_count": 59,
     "metadata": {},
     "output_type": "execute_result"
    }
   ],
   "source": [
    "# Mean length of short_lengths\n",
    "tf.math.reduce_mean(short_lengths)"
   ]
  },
  {
   "cell_type": "markdown",
   "id": "a56e1b18-c030-4d15-8518-014b3688069c",
   "metadata": {},
   "source": [
    "### Build preprocessing function to convert to spectrogram"
   ]
  },
  {
   "cell_type": "markdown",
   "id": "904269fb-cc53-428c-bb42-38d979ce082d",
   "metadata": {},
   "source": [
    "#### Build preprocessing function"
   ]
  },
  {
   "cell_type": "code",
   "execution_count": 60,
   "id": "00e543b1-1f03-4e9a-a080-5e7462a457a7",
   "metadata": {
    "execution": {
     "iopub.execute_input": "2022-05-30T10:31:07.850797Z",
     "iopub.status.busy": "2022-05-30T10:31:07.850141Z",
     "iopub.status.idle": "2022-05-30T10:31:07.861604Z",
     "shell.execute_reply": "2022-05-30T10:31:07.860339Z",
     "shell.execute_reply.started": "2022-05-30T10:31:07.850739Z"
    },
    "tags": []
   },
   "outputs": [],
   "source": [
    "def preprocess(file_path, label):\n",
    "    # Load the file with load_wav_16k_mono function\n",
    "    wav = load_wav_16k_mono(file_path)\n",
    "    # Take only the first 5000 steps\n",
    "    wav = wav[:5000]\n",
    "    # If the wav-file is shorter than 5000 steps, pad it with zeros at the start of the file\n",
    "    zero_padding = tf.zeros([5000]-tf.shape(wav),dtype=tf.float32)\n",
    "    wav = tf.concat([zero_padding, wav],0)\n",
    "    # Create spectrogram with the short form fourier transform (.stft)\n",
    "    s = tf.signal.stft(wav, frame_length = 320, frame_step = 32)\n",
    "    # Convert it into absolute values\n",
    "    s = tf.abs(s)\n",
    "    # Add one more dimension (with .expand_dims) as this is the required format for the CNN \n",
    "    s = tf.expand_dims(s, axis=2)\n",
    "    return s, label"
   ]
  },
  {
   "cell_type": "markdown",
   "id": "00afdd1d-ba1c-4c2c-ab10-2765ce2abd40",
   "metadata": {},
   "source": [
    "#### Test out the function and vizualize the spectrogram "
   ]
  },
  {
   "cell_type": "code",
   "execution_count": 61,
   "id": "fe82f9a8-fac1-467c-a2aa-f421d100f795",
   "metadata": {
    "execution": {
     "iopub.execute_input": "2022-05-30T10:31:08.979108Z",
     "iopub.status.busy": "2022-05-30T10:31:08.978624Z",
     "iopub.status.idle": "2022-05-30T10:31:09.347290Z",
     "shell.execute_reply": "2022-05-30T10:31:09.345976Z",
     "shell.execute_reply.started": "2022-05-30T10:31:08.979054Z"
    },
    "tags": []
   },
   "outputs": [
    {
     "data": {
      "image/png": "[encoded data removed]",
      "text/plain": [
       "<Figure size 720x504 with 1 Axes>"
      ]
     },
     "metadata": {
      "needs_background": "light"
     },
     "output_type": "display_data"
    }
   ],
   "source": [
    "# A random spectrogram from the backvowels /å/\n",
    "filepath, label = back_lab.shuffle(buffer_size = 10000).as_numpy_iterator().next()\n",
    "spectrogram, label = preprocess(filepath, label)\n",
    "plt.figure(figsize=(10,7))\n",
    "plt.ylim(0,50)\n",
    "plt.imshow(tf.transpose(spectrogram)[0])\n",
    "plt.title('Back vowel /ɔ/')\n",
    "plt.savefig('backvowel.png')\n",
    "plt.show()"
   ]
  },
  {
   "cell_type": "code",
   "execution_count": 62,
   "id": "a630deb7-9055-4139-b3b2-d2121c8056c3",
   "metadata": {
    "execution": {
     "iopub.execute_input": "2022-05-30T10:31:09.973451Z",
     "iopub.status.busy": "2022-05-30T10:31:09.972729Z",
     "iopub.status.idle": "2022-05-30T10:31:10.325965Z",
     "shell.execute_reply": "2022-05-30T10:31:10.324795Z",
     "shell.execute_reply.started": "2022-05-30T10:31:09.973392Z"
    },
    "tags": []
   },
   "outputs": [
    {
     "data": {
      "image/png": "[encoded data removed]",
      "text/plain": [
       "<Figure size 720x504 with 1 Axes>"
      ]
     },
     "metadata": {
      "needs_background": "light"
     },
     "output_type": "display_data"
    }
   ],
   "source": [
    "# A random spectrogram from the front vowels /i/\n",
    "filepath2, label2 = front_lab.shuffle(buffer_size = 10000).as_numpy_iterator().next()\n",
    "spectrogram2, label2 = preprocess(filepath2, label2)\n",
    "plt.figure(figsize=(10,7))\n",
    "plt.ylim(0,50)\n",
    "plt.imshow(tf.transpose(spectrogram2)[0])\n",
    "plt.title('Front vowel /i/')\n",
    "plt.savefig('frontvowel.png')\n",
    "plt.show()"
   ]
  },
  {
   "cell_type": "markdown",
   "id": "54052bf9-52b4-4df2-9580-5988fe943d0d",
   "metadata": {},
   "source": [
    "### Create training and testing partitions\n",
    "\n",
    "Here, the data, which is currently just individual string with a path to .wav file in, will be converted in to spectrograms for the CNN  to work with\n",
    "#### Create a Tensorflow data pipeline \n"
   ]
  },
  {
   "cell_type": "code",
   "execution_count": 63,
   "id": "c11ee850-ebf8-42cd-8c85-f2de97f8671f",
   "metadata": {
    "execution": {
     "iopub.execute_input": "2022-05-30T10:31:12.088956Z",
     "iopub.status.busy": "2022-05-30T10:31:12.088405Z",
     "iopub.status.idle": "2022-05-30T10:31:12.098319Z",
     "shell.execute_reply": "2022-05-30T10:31:12.097009Z",
     "shell.execute_reply.started": "2022-05-30T10:31:12.088898Z"
    },
    "tags": []
   },
   "outputs": [
    {
     "name": "stdout",
     "output_type": "stream",
     "text": [
      "Before preproccesing, the length of the dataset was: 68\n"
     ]
    }
   ],
   "source": [
    "print(f'Before preproccesing, the length of the dataset was:',len(data))"
   ]
  },
  {
   "cell_type": "code",
   "execution_count": 64,
   "id": "dcedec35-f01b-4570-b124-db32052f80f2",
   "metadata": {
    "execution": {
     "iopub.execute_input": "2022-05-30T10:31:12.897982Z",
     "iopub.status.busy": "2022-05-30T10:31:12.897350Z",
     "iopub.status.idle": "2022-05-30T10:31:13.080458Z",
     "shell.execute_reply": "2022-05-30T10:31:13.079454Z",
     "shell.execute_reply.started": "2022-05-30T10:31:12.897922Z"
    },
    "tags": []
   },
   "outputs": [
    {
     "name": "stdout",
     "output_type": "stream",
     "text": [
      "WARNING:tensorflow:Using a while_loop for converting IO>AudioResample\n"
     ]
    }
   ],
   "source": [
    "# Preprocess the data\n",
    "data = data.map(preprocess)\n",
    "# Cache the data\n",
    "data = data.cache()\n",
    "# Shuffle the traning samples to mix up their order\n",
    "data = data.shuffle(buffer_size=1000)\n",
    "# Batch it up to train at 16 samples at a time\n",
    "data = data.batch(16)\n",
    "# Prefetch 8 examples to eliminate potential cpu bottleneck\n",
    "data = data.prefetch(8)"
   ]
  },
  {
   "cell_type": "markdown",
   "id": "b87a06d9-efe3-44e9-a39c-d80f6357e992",
   "metadata": {},
   "source": [
    "#### Split into traning and test partitions"
   ]
  },
  {
   "cell_type": "code",
   "execution_count": 65,
   "id": "da264efa-7d5c-494e-b2c7-12d973524e10",
   "metadata": {
    "execution": {
     "iopub.execute_input": "2022-05-30T10:31:14.555360Z",
     "iopub.status.busy": "2022-05-30T10:31:14.554846Z",
     "iopub.status.idle": "2022-05-30T10:31:14.565127Z",
     "shell.execute_reply": "2022-05-30T10:31:14.563657Z",
     "shell.execute_reply.started": "2022-05-30T10:31:14.555306Z"
    },
    "tags": []
   },
   "outputs": [
    {
     "name": "stdout",
     "output_type": "stream",
     "text": [
      "After preprocessing and batching the data, is is now: 5\n",
      "70 % of this length is: 3.5\n",
      "Rounded it is: 4 \n",
      "This will be the length of the training sample\n"
     ]
    }
   ],
   "source": [
    "# Here, we check the length of our data\n",
    "print(f'After preprocessing and batching the data, is is now:', len(data))\n",
    "# 70 % of this length\n",
    "print(f'70 % of this length is:', len(data)*0.7)\n",
    "# 70% of this length rounded\n",
    "print(f'Rounded it is:', round(len(data)*0.7), '''\n",
    "This will be the length of the training sample''')"
   ]
  },
  {
   "cell_type": "code",
   "execution_count": 66,
   "id": "4d2950d9-1288-4065-b298-c8e2790183ce",
   "metadata": {
    "execution": {
     "iopub.execute_input": "2022-05-30T10:31:15.623811Z",
     "iopub.status.busy": "2022-05-30T10:31:15.623267Z",
     "iopub.status.idle": "2022-05-30T10:31:15.636972Z",
     "shell.execute_reply": "2022-05-30T10:31:15.635906Z",
     "shell.execute_reply.started": "2022-05-30T10:31:15.623754Z"
    },
    "tags": []
   },
   "outputs": [],
   "source": [
    "# Training data with 4 of the 16-batch samples\n",
    "train = data.take(4)\n",
    "# Test data, here we skip the initial 4 and take the remaining 1\n",
    "test = data.skip(4).take(1)"
   ]
  },
  {
   "cell_type": "markdown",
   "id": "5dd8b3e0-3dd7-417d-85e7-c127634834d2",
   "metadata": {},
   "source": [
    "#### Test the shape of one batch"
   ]
  },
  {
   "cell_type": "code",
   "execution_count": 67,
   "id": "4d969b8c-6525-486e-8a4e-e492ef4bc1d5",
   "metadata": {
    "execution": {
     "iopub.execute_input": "2022-05-30T10:31:16.821946Z",
     "iopub.status.busy": "2022-05-30T10:31:16.821467Z",
     "iopub.status.idle": "2022-05-30T10:31:16.994989Z",
     "shell.execute_reply": "2022-05-30T10:31:16.993917Z",
     "shell.execute_reply.started": "2022-05-30T10:31:16.821892Z"
    },
    "tags": []
   },
   "outputs": [],
   "source": [
    "samples, labels = train.as_numpy_iterator().next()\n"
   ]
  },
  {
   "cell_type": "code",
   "execution_count": 68,
   "id": "ed5a9b2c-e11d-4146-bcb1-4aecc6470028",
   "metadata": {
    "execution": {
     "iopub.execute_input": "2022-05-30T10:31:17.276442Z",
     "iopub.status.busy": "2022-05-30T10:31:17.275805Z",
     "iopub.status.idle": "2022-05-30T10:31:17.284882Z",
     "shell.execute_reply": "2022-05-30T10:31:17.283740Z",
     "shell.execute_reply.started": "2022-05-30T10:31:17.276385Z"
    },
    "tags": []
   },
   "outputs": [
    {
     "data": {
      "text/plain": [
       "(16, 147, 257, 1)"
      ]
     },
     "execution_count": 68,
     "metadata": {},
     "output_type": "execute_result"
    }
   ],
   "source": [
    "# This is the shape of the samples\n",
    "# The numbers of this should be used as input shape when specifying the model\n",
    "samples.shape"
   ]
  },
  {
   "cell_type": "markdown",
   "id": "ad7a03ed-324e-41ac-85f5-765b2c7882e8",
   "metadata": {},
   "source": [
    "### Build deep learning model\n",
    "\n",
    "#### Load Tensorflow dependencies"
   ]
  },
  {
   "cell_type": "code",
   "execution_count": 69,
   "id": "1979d51e-4c19-410a-9c0d-7c974de5a967",
   "metadata": {
    "execution": {
     "iopub.execute_input": "2022-05-30T10:31:18.507300Z",
     "iopub.status.busy": "2022-05-30T10:31:18.506784Z",
     "iopub.status.idle": "2022-05-30T10:31:18.514391Z",
     "shell.execute_reply": "2022-05-30T10:31:18.513215Z",
     "shell.execute_reply.started": "2022-05-30T10:31:18.507243Z"
    },
    "tags": []
   },
   "outputs": [],
   "source": [
    "from tensorflow.keras.models import Sequential\n",
    "from tensorflow.keras.layers import Conv2D, Dense, Flatten, Activation"
   ]
  },
  {
   "cell_type": "markdown",
   "id": "ea988b1b-9969-4b92-a3dc-a40ecdd839c4",
   "metadata": {},
   "source": [
    "#### Build sequential model, compile and view summary"
   ]
  },
  {
   "cell_type": "code",
   "execution_count": 70,
   "id": "9d4f7b60-ee8e-4531-840a-bf7d5849f20b",
   "metadata": {
    "execution": {
     "iopub.execute_input": "2022-05-30T10:31:19.529746Z",
     "iopub.status.busy": "2022-05-30T10:31:19.529141Z",
     "iopub.status.idle": "2022-05-30T10:31:19.634568Z",
     "shell.execute_reply": "2022-05-30T10:31:19.633289Z",
     "shell.execute_reply.started": "2022-05-30T10:31:19.529690Z"
    },
    "tags": []
   },
   "outputs": [],
   "source": [
    "# Define sequential model\n",
    "model = Sequential()\n",
    "# Add convolutional layers:\n",
    "model.add(Conv2D(16,(3,3), activation='relu', input_shape=(147, 257, 1)))\n",
    "model.add(Conv2D(16,(3,3), activation='relu'))\n",
    "## Flatten the layer into a single dimension:\n",
    "model.add(Flatten())\n",
    "model.add(Dense(128, activation='relu'))\n",
    "model.add(Dense(1,activation='sigmoid'))"
   ]
  },
  {
   "cell_type": "code",
   "execution_count": 71,
   "id": "400dbd7a-ab12-420b-9f33-1fe519db313b",
   "metadata": {
    "execution": {
     "iopub.execute_input": "2022-05-30T10:31:20.325202Z",
     "iopub.status.busy": "2022-05-30T10:31:20.324706Z",
     "iopub.status.idle": "2022-05-30T10:31:20.344679Z",
     "shell.execute_reply": "2022-05-30T10:31:20.344076Z",
     "shell.execute_reply.started": "2022-05-30T10:31:20.325148Z"
    },
    "tags": []
   },
   "outputs": [],
   "source": [
    "# Compile the model\n",
    "model.compile('Adam', loss = 'BinaryCrossentropy', metrics=[tf.keras.metrics.Recall(),tf.keras.metrics.Precision()])"
   ]
  },
  {
   "cell_type": "code",
   "execution_count": 72,
   "id": "48d8f957-8309-49ac-afb4-a2a73d76d6a5",
   "metadata": {
    "execution": {
     "iopub.execute_input": "2022-05-30T10:31:20.706768Z",
     "iopub.status.busy": "2022-05-30T10:31:20.706215Z",
     "iopub.status.idle": "2022-05-30T10:31:20.730386Z",
     "shell.execute_reply": "2022-05-30T10:31:20.729391Z",
     "shell.execute_reply.started": "2022-05-30T10:31:20.706715Z"
    },
    "tags": []
   },
   "outputs": [
    {
     "name": "stdout",
     "output_type": "stream",
     "text": [
      "Model: \"sequential_1\"\n",
      "_________________________________________________________________\n",
      " Layer (type)                Output Shape              Param #   \n",
      "=================================================================\n",
      " conv2d_2 (Conv2D)           (None, 145, 255, 16)      160       \n",
      "                                                                 \n",
      " conv2d_3 (Conv2D)           (None, 143, 253, 16)      2320      \n",
      "                                                                 \n",
      " flatten_1 (Flatten)         (None, 578864)            0         \n",
      "                                                                 \n",
      " dense_2 (Dense)             (None, 128)               74094720  \n",
      "                                                                 \n",
      " dense_3 (Dense)             (None, 1)                 129       \n",
      "                                                                 \n",
      "=================================================================\n",
      "Total params: 74,097,329\n",
      "Trainable params: 74,097,329\n",
      "Non-trainable params: 0\n",
      "_________________________________________________________________\n"
     ]
    }
   ],
   "source": [
    "# Let's have a look at the model\n",
    "model.summary()"
   ]
  },
  {
   "cell_type": "markdown",
   "id": "ae0f4e03-923f-45c7-ae73-112654effc3d",
   "metadata": {
    "execution": {
     "iopub.execute_input": "2022-05-15T09:49:28.723232Z",
     "iopub.status.busy": "2022-05-15T09:49:28.722675Z",
     "iopub.status.idle": "2022-05-15T09:49:28.798555Z",
     "shell.execute_reply": "2022-05-15T09:49:28.797601Z",
     "shell.execute_reply.started": "2022-05-15T09:49:28.723185Z"
    },
    "tags": []
   },
   "source": [
    "#### Fit model, view loss and KPI plots\n",
    "\n",
    "Let's train the model"
   ]
  },
  {
   "cell_type": "code",
   "execution_count": 73,
   "id": "309f75f2-9180-459f-8d79-057ef0b2d607",
   "metadata": {
    "execution": {
     "iopub.execute_input": "2022-05-30T10:31:21.764849Z",
     "iopub.status.busy": "2022-05-30T10:31:21.764347Z",
     "iopub.status.idle": "2022-05-30T10:31:26.112216Z",
     "shell.execute_reply": "2022-05-30T10:31:26.111445Z",
     "shell.execute_reply.started": "2022-05-30T10:31:21.764794Z"
    },
    "tags": []
   },
   "outputs": [
    {
     "name": "stdout",
     "output_type": "stream",
     "text": [
      "Epoch 1/4\n",
      "4/4 [==============================] - 2s 310ms/step - loss: 0.5958 - recall_1: 0.8750 - precision_1: 0.7568 - val_loss: 7.7588e-05 - val_recall_1: 1.0000 - val_precision_1: 1.0000\n",
      "Epoch 2/4\n",
      "4/4 [==============================] - 1s 219ms/step - loss: 0.7184 - recall_1: 0.9333 - precision_1: 0.9655 - val_loss: 0.1260 - val_recall_1: 1.0000 - val_precision_1: 1.0000\n",
      "Epoch 3/4\n",
      "4/4 [==============================] - 1s 215ms/step - loss: 0.2693 - recall_1: 0.8710 - precision_1: 1.0000 - val_loss: 0.5641 - val_recall_1: 0.5000 - val_precision_1: 1.0000\n",
      "Epoch 4/4\n",
      "4/4 [==============================] - 1s 214ms/step - loss: 0.1079 - recall_1: 0.9688 - precision_1: 0.9688 - val_loss: 3.2031e-04 - val_recall_1: 1.0000 - val_precision_1: 1.0000\n"
     ]
    }
   ],
   "source": [
    "# Train the model for 4 epochs \n",
    "hist = model.fit(train, epochs=4, validation_data=test)"
   ]
  },
  {
   "cell_type": "code",
   "execution_count": 74,
   "id": "cc073d54-9c80-4dde-a19b-c169da71987e",
   "metadata": {
    "execution": {
     "iopub.execute_input": "2022-05-30T10:31:30.231444Z",
     "iopub.status.busy": "2022-05-30T10:31:30.230922Z",
     "iopub.status.idle": "2022-05-30T10:31:30.970370Z",
     "shell.execute_reply": "2022-05-30T10:31:30.969724Z",
     "shell.execute_reply.started": "2022-05-30T10:31:30.231387Z"
    },
    "tags": []
   },
   "outputs": [
    {
     "data": {
      "image/png": "[encoded data removed]",
      "text/plain": [
       "<Figure size 432x288 with 1 Axes>"
      ]
     },
     "metadata": {
      "needs_background": "light"
     },
     "output_type": "display_data"
    }
   ],
   "source": [
    "plt.title('Loss')\n",
    "plt.plot(hist.history['loss'],'b')\n",
    "plt.plot(hist.history['val_loss'], 'r')\n",
    "plt.savefig('loss.png')\n",
    "plt.show()"
   ]
  },
  {
   "cell_type": "code",
   "execution_count": 76,
   "id": "ff7cd65e-cc33-49fc-90c1-94ddf10fb8e4",
   "metadata": {
    "execution": {
     "iopub.execute_input": "2022-05-30T10:31:41.403072Z",
     "iopub.status.busy": "2022-05-30T10:31:41.402554Z",
     "iopub.status.idle": "2022-05-30T10:31:41.939772Z",
     "shell.execute_reply": "2022-05-30T10:31:41.939170Z",
     "shell.execute_reply.started": "2022-05-30T10:31:41.403015Z"
    },
    "tags": []
   },
   "outputs": [
    {
     "data": {
      "image/png": "[encoded data removed]",
      "text/plain": [
       "<Figure size 432x288 with 1 Axes>"
      ]
     },
     "metadata": {
      "needs_background": "light"
     },
     "output_type": "display_data"
    }
   ],
   "source": [
    "plt.title('Precision')\n",
    "plt.plot(hist.history['precision_1'], 'b')\n",
    "plt.plot(hist.history['val_precision_1'], 'r')\n",
    "plt.savefig('precision.png')\n",
    "plt.show()"
   ]
  },
  {
   "cell_type": "code",
   "execution_count": 78,
   "id": "9b45ba50-7783-4793-8283-c9c59f1ae430",
   "metadata": {
    "execution": {
     "iopub.execute_input": "2022-05-30T10:32:09.642648Z",
     "iopub.status.busy": "2022-05-30T10:32:09.642009Z",
     "iopub.status.idle": "2022-05-30T10:32:10.371936Z",
     "shell.execute_reply": "2022-05-30T10:32:10.371332Z",
     "shell.execute_reply.started": "2022-05-30T10:32:09.642590Z"
    },
    "tags": []
   },
   "outputs": [
    {
     "data": {
      "image/png": "[encoded data removed]",
      "text/plain": [
       "<Figure size 432x288 with 1 Axes>"
      ]
     },
     "metadata": {
      "needs_background": "light"
     },
     "output_type": "display_data"
    }
   ],
   "source": [
    "plt.title('Recall')\n",
    "plt.plot(hist.history['recall_1'], 'b')\n",
    "plt.plot(hist.history['val_recall_1'], 'r')\n",
    "plt.savefig('recall.png')\n",
    "plt.show()"
   ]
  },
  {
   "cell_type": "code",
   "execution_count": 79,
   "id": "c4784c93-4ca8-40ea-aa2e-e40b61fd57b6",
   "metadata": {
    "execution": {
     "iopub.execute_input": "2022-05-30T10:32:13.458223Z",
     "iopub.status.busy": "2022-05-30T10:32:13.457700Z",
     "iopub.status.idle": "2022-05-30T10:32:13.466706Z",
     "shell.execute_reply": "2022-05-30T10:32:13.465745Z",
     "shell.execute_reply.started": "2022-05-30T10:32:13.458168Z"
    },
    "tags": []
   },
   "outputs": [
    {
     "data": {
      "text/plain": [
       "<keras.callbacks.History at 0x7f8d10052460>"
      ]
     },
     "execution_count": 79,
     "metadata": {},
     "output_type": "execute_result"
    }
   ],
   "source": [
    "hist"
   ]
  },
  {
   "cell_type": "code",
   "execution_count": 80,
   "id": "4d8143d0-5e2e-44c5-8555-488608f10e70",
   "metadata": {
    "execution": {
     "iopub.execute_input": "2022-05-30T10:32:18.029110Z",
     "iopub.status.busy": "2022-05-30T10:32:18.028589Z",
     "iopub.status.idle": "2022-05-30T10:32:18.039271Z",
     "shell.execute_reply": "2022-05-30T10:32:18.038057Z",
     "shell.execute_reply.started": "2022-05-30T10:32:18.029055Z"
    },
    "tags": []
   },
   "outputs": [
    {
     "data": {
      "text/plain": [
       "{'loss': [0.5958353281021118,\n",
       "  0.7184434533119202,\n",
       "  0.2693021893501282,\n",
       "  0.1079498827457428],\n",
       " 'recall_1': [0.875, 0.9333333373069763, 0.8709677457809448, 0.96875],\n",
       " 'precision_1': [0.7567567825317383, 0.9655172228813171, 1.0, 0.96875],\n",
       " 'val_loss': [7.758813444525003e-05,\n",
       "  0.12598130106925964,\n",
       "  0.564095139503479,\n",
       "  0.00032031271257437766],\n",
       " 'val_recall_1': [1.0, 1.0, 0.5, 1.0],\n",
       " 'val_precision_1': [1.0, 1.0, 1.0, 1.0]}"
      ]
     },
     "execution_count": 80,
     "metadata": {},
     "output_type": "execute_result"
    }
   ],
   "source": [
    "hist.history"
   ]
  },
  {
   "cell_type": "code",
   "execution_count": 72,
   "id": "867ad389-13f0-4bde-bba7-a3d1500d4111",
   "metadata": {
    "execution": {
     "iopub.execute_input": "2022-05-29T14:38:29.332424Z",
     "iopub.status.busy": "2022-05-29T14:38:29.331912Z",
     "iopub.status.idle": "2022-05-29T14:38:29.341383Z",
     "shell.execute_reply": "2022-05-29T14:38:29.340268Z",
     "shell.execute_reply.started": "2022-05-29T14:38:29.332370Z"
    },
    "tags": []
   },
   "outputs": [
    {
     "data": {
      "text/plain": [
       "[10.746267318725586,\n",
       " 0.5962384939193726,\n",
       " 0.06639770418405533,\n",
       " 0.6186553239822388]"
      ]
     },
     "execution_count": 72,
     "metadata": {},
     "output_type": "execute_result"
    }
   ],
   "source": [
    "hist.history['loss']"
   ]
  },
  {
   "cell_type": "markdown",
   "id": "c03790a2-08b5-4c2c-a26d-992b89877485",
   "metadata": {},
   "source": [
    "### Make a prediction on a single clip\n",
    "\n",
    "#### Get one batch and make a prediction"
   ]
  },
  {
   "cell_type": "code",
   "execution_count": 126,
   "id": "2727add5-3942-42af-9fd8-b9224fc714be",
   "metadata": {
    "collapsed": true,
    "execution": {
     "iopub.execute_input": "2022-05-29T16:29:14.369269Z",
     "iopub.status.busy": "2022-05-29T16:29:14.368791Z",
     "iopub.status.idle": "2022-05-29T16:29:14.395705Z",
     "shell.execute_reply": "2022-05-29T16:29:14.395033Z",
     "shell.execute_reply.started": "2022-05-29T16:29:14.369216Z"
    },
    "jupyter": {
     "outputs_hidden": true
    },
    "tags": []
   },
   "outputs": [
    {
     "data": {
      "text/plain": [
       "(array([[[[0.00000000e+00],\n",
       "          [0.00000000e+00],\n",
       "          [0.00000000e+00],\n",
       "          ...,\n",
       "          [0.00000000e+00],\n",
       "          [0.00000000e+00],\n",
       "          [0.00000000e+00]],\n",
       " \n",
       "         [[0.00000000e+00],\n",
       "          [0.00000000e+00],\n",
       "          [0.00000000e+00],\n",
       "          ...,\n",
       "          [0.00000000e+00],\n",
       "          [0.00000000e+00],\n",
       "          [0.00000000e+00]],\n",
       " \n",
       "         [[0.00000000e+00],\n",
       "          [0.00000000e+00],\n",
       "          [0.00000000e+00],\n",
       "          ...,\n",
       "          [0.00000000e+00],\n",
       "          [0.00000000e+00],\n",
       "          [0.00000000e+00]],\n",
       " \n",
       "         ...,\n",
       " \n",
       "         [[1.22467913e-02],\n",
       "          [7.28621939e-03],\n",
       "          [3.44361253e-02],\n",
       "          ...,\n",
       "          [3.93819346e-06],\n",
       "          [2.66012285e-06],\n",
       "          [4.84287739e-08]],\n",
       " \n",
       "         [[1.17843039e-02],\n",
       "          [5.24284830e-03],\n",
       "          [3.88497561e-02],\n",
       "          ...,\n",
       "          [4.17914680e-06],\n",
       "          [2.65063295e-06],\n",
       "          [1.65030360e-06]],\n",
       " \n",
       "         [[7.09457323e-03],\n",
       "          [2.67760064e-02],\n",
       "          [5.79626672e-02],\n",
       "          ...,\n",
       "          [4.06111258e-06],\n",
       "          [3.02045942e-06],\n",
       "          [1.91852450e-06]]],\n",
       " \n",
       " \n",
       "        [[[6.43875217e-04],\n",
       "          [5.64933289e-04],\n",
       "          [3.16184189e-04],\n",
       "          ...,\n",
       "          [5.39473319e-07],\n",
       "          [2.40350317e-07],\n",
       "          [6.87141437e-08]],\n",
       " \n",
       "         [[2.73506710e-04],\n",
       "          [3.74231080e-04],\n",
       "          [2.50895682e-04],\n",
       "          ...,\n",
       "          [5.46750130e-07],\n",
       "          [2.64952490e-07],\n",
       "          [1.36467861e-07]],\n",
       " \n",
       "         [[6.78244251e-05],\n",
       "          [3.40237428e-04],\n",
       "          [3.92894843e-04],\n",
       "          ...,\n",
       "          [5.89507010e-07],\n",
       "          [2.98906059e-07],\n",
       "          [1.17768650e-07]],\n",
       " \n",
       "         ...,\n",
       " \n",
       "         [[1.26155540e-02],\n",
       "          [1.90378949e-01],\n",
       "          [2.27510318e-01],\n",
       "          ...,\n",
       "          [9.69291591e-07],\n",
       "          [8.32640944e-06],\n",
       "          [1.17197633e-05]],\n",
       " \n",
       "         [[9.21626389e-03],\n",
       "          [1.29339024e-01],\n",
       "          [2.16714263e-01],\n",
       "          ...,\n",
       "          [3.69639656e-06],\n",
       "          [8.91100444e-06],\n",
       "          [1.18464231e-05]],\n",
       " \n",
       "         [[2.20062435e-02],\n",
       "          [7.84392953e-02],\n",
       "          [1.87562287e-01],\n",
       "          ...,\n",
       "          [7.30680995e-06],\n",
       "          [9.27672681e-06],\n",
       "          [1.08182430e-05]]],\n",
       " \n",
       " \n",
       "        [[[2.90226948e-04],\n",
       "          [1.04916655e-03],\n",
       "          [2.47138040e-03],\n",
       "          ...,\n",
       "          [2.26551109e-07],\n",
       "          [1.65709324e-07],\n",
       "          [1.63563527e-08]],\n",
       " \n",
       "         [[2.39066576e-05],\n",
       "          [1.04508060e-03],\n",
       "          [2.17251573e-03],\n",
       "          ...,\n",
       "          [3.83472752e-07],\n",
       "          [1.12389706e-07],\n",
       "          [4.40777512e-08]],\n",
       " \n",
       "         [[5.86366630e-04],\n",
       "          [9.62061808e-04],\n",
       "          [1.51271152e-03],\n",
       "          ...,\n",
       "          [4.72101391e-07],\n",
       "          [1.41263726e-07],\n",
       "          [3.25671863e-08]],\n",
       " \n",
       "         ...,\n",
       " \n",
       "         [[3.36075574e-03],\n",
       "          [6.25728846e-01],\n",
       "          [1.68625104e+00],\n",
       "          ...,\n",
       "          [5.44004661e-06],\n",
       "          [7.14302132e-06],\n",
       "          [1.27255917e-05]],\n",
       " \n",
       "         [[2.30807886e-02],\n",
       "          [6.18031740e-01],\n",
       "          [1.53511143e+00],\n",
       "          ...,\n",
       "          [8.82873337e-06],\n",
       "          [9.98911401e-06],\n",
       "          [1.29640102e-05]],\n",
       " \n",
       "         [[7.57183135e-02],\n",
       "          [5.77090383e-01],\n",
       "          [1.52692199e+00],\n",
       "          ...,\n",
       "          [1.32377336e-05],\n",
       "          [1.26886534e-05],\n",
       "          [1.29155815e-05]]],\n",
       " \n",
       " \n",
       "        [[[0.00000000e+00],\n",
       "          [0.00000000e+00],\n",
       "          [0.00000000e+00],\n",
       "          ...,\n",
       "          [0.00000000e+00],\n",
       "          [0.00000000e+00],\n",
       "          [0.00000000e+00]],\n",
       " \n",
       "         [[0.00000000e+00],\n",
       "          [0.00000000e+00],\n",
       "          [0.00000000e+00],\n",
       "          ...,\n",
       "          [0.00000000e+00],\n",
       "          [0.00000000e+00],\n",
       "          [0.00000000e+00]],\n",
       " \n",
       "         [[0.00000000e+00],\n",
       "          [0.00000000e+00],\n",
       "          [0.00000000e+00],\n",
       "          ...,\n",
       "          [0.00000000e+00],\n",
       "          [0.00000000e+00],\n",
       "          [0.00000000e+00]],\n",
       " \n",
       "         ...,\n",
       " \n",
       "         [[1.31255999e-01],\n",
       "          [1.31391987e-01],\n",
       "          [5.69213964e-02],\n",
       "          ...,\n",
       "          [1.05114414e-05],\n",
       "          [1.01637297e-05],\n",
       "          [9.98377800e-07]],\n",
       " \n",
       "         [[2.68890858e-02],\n",
       "          [9.60352644e-02],\n",
       "          [4.94921915e-02],\n",
       "          ...,\n",
       "          [1.19460628e-05],\n",
       "          [1.08056074e-05],\n",
       "          [7.91251659e-06]],\n",
       " \n",
       "         [[1.63061455e-01],\n",
       "          [1.16187036e-01],\n",
       "          [1.17568016e-01],\n",
       "          ...,\n",
       "          [9.79969991e-06],\n",
       "          [1.32085343e-05],\n",
       "          [1.51842833e-05]]]], dtype=float32),\n",
       " array([1., 0., 0., 1.], dtype=float32))"
      ]
     },
     "execution_count": 126,
     "metadata": {},
     "output_type": "execute_result"
    }
   ],
   "source": [
    "X_test, Y_test = test.as_numpy_iterator().next()\n",
    "X_test, Y_test"
   ]
  },
  {
   "cell_type": "code",
   "execution_count": 127,
   "id": "89374d93-1a91-4ad8-a8a8-507f24f2b815",
   "metadata": {
    "execution": {
     "iopub.execute_input": "2022-05-29T16:29:14.987558Z",
     "iopub.status.busy": "2022-05-29T16:29:14.987086Z",
     "iopub.status.idle": "2022-05-29T16:29:14.995049Z",
     "shell.execute_reply": "2022-05-29T16:29:14.994180Z",
     "shell.execute_reply.started": "2022-05-29T16:29:14.987505Z"
    },
    "tags": []
   },
   "outputs": [
    {
     "data": {
      "text/plain": [
       "(4,)"
      ]
     },
     "execution_count": 127,
     "metadata": {},
     "output_type": "execute_result"
    }
   ],
   "source": [
    "Y_test.shape"
   ]
  },
  {
   "cell_type": "code",
   "execution_count": 128,
   "id": "a975f856-d88e-4ab8-b5c6-667cb20dccb8",
   "metadata": {
    "execution": {
     "iopub.execute_input": "2022-05-29T16:29:15.591320Z",
     "iopub.status.busy": "2022-05-29T16:29:15.590843Z",
     "iopub.status.idle": "2022-05-29T16:29:15.664363Z",
     "shell.execute_reply": "2022-05-29T16:29:15.663667Z",
     "shell.execute_reply.started": "2022-05-29T16:29:15.591267Z"
    },
    "tags": []
   },
   "outputs": [
    {
     "name": "stdout",
     "output_type": "stream",
     "text": [
      "1/1 [==============================] - 0s 36ms/step\n"
     ]
    }
   ],
   "source": [
    "yhat = model.predict(X_test)"
   ]
  },
  {
   "cell_type": "code",
   "execution_count": 129,
   "id": "fa07718c-c236-43fe-891e-2caf1420f95a",
   "metadata": {
    "execution": {
     "iopub.execute_input": "2022-05-29T16:29:16.284442Z",
     "iopub.status.busy": "2022-05-29T16:29:16.284089Z",
     "iopub.status.idle": "2022-05-29T16:29:16.289538Z",
     "shell.execute_reply": "2022-05-29T16:29:16.288944Z",
     "shell.execute_reply.started": "2022-05-29T16:29:16.284419Z"
    },
    "tags": []
   },
   "outputs": [
    {
     "data": {
      "text/plain": [
       "array([[1.0000000e+00],\n",
       "       [6.3395067e-24],\n",
       "       [5.7070202e-04],\n",
       "       [1.0000000e+00]], dtype=float32)"
      ]
     },
     "execution_count": 129,
     "metadata": {},
     "output_type": "execute_result"
    }
   ],
   "source": [
    "yhat"
   ]
  },
  {
   "cell_type": "code",
   "execution_count": 130,
   "id": "461bce5e-8b1a-401b-8c8b-33b13d526e59",
   "metadata": {
    "execution": {
     "iopub.execute_input": "2022-05-29T16:29:16.811196Z",
     "iopub.status.busy": "2022-05-29T16:29:16.810689Z",
     "iopub.status.idle": "2022-05-29T16:29:16.818885Z",
     "shell.execute_reply": "2022-05-29T16:29:16.816953Z",
     "shell.execute_reply.started": "2022-05-29T16:29:16.811143Z"
    },
    "tags": []
   },
   "outputs": [],
   "source": [
    "yhat = [1 if prediction > 0.5 else 0 for prediction in yhat]"
   ]
  },
  {
   "cell_type": "code",
   "execution_count": 131,
   "id": "eb4a6d9d-6419-46fe-8ab8-1b33fb1cb245",
   "metadata": {
    "execution": {
     "iopub.execute_input": "2022-05-29T16:29:17.592635Z",
     "iopub.status.busy": "2022-05-29T16:29:17.592188Z",
     "iopub.status.idle": "2022-05-29T16:29:17.598135Z",
     "shell.execute_reply": "2022-05-29T16:29:17.597474Z",
     "shell.execute_reply.started": "2022-05-29T16:29:17.592600Z"
    },
    "tags": []
   },
   "outputs": [
    {
     "data": {
      "text/plain": [
       "[1, 0, 0, 1]"
      ]
     },
     "execution_count": 131,
     "metadata": {},
     "output_type": "execute_result"
    }
   ],
   "source": [
    "yhat"
   ]
  },
  {
   "cell_type": "code",
   "execution_count": 132,
   "id": "8011a971-434c-432b-a51f-4d509ef7a2db",
   "metadata": {
    "execution": {
     "iopub.execute_input": "2022-05-29T16:30:05.397710Z",
     "iopub.status.busy": "2022-05-29T16:30:05.397258Z",
     "iopub.status.idle": "2022-05-29T16:30:05.404662Z",
     "shell.execute_reply": "2022-05-29T16:30:05.403986Z",
     "shell.execute_reply.started": "2022-05-29T16:30:05.397674Z"
    },
    "tags": []
   },
   "outputs": [
    {
     "data": {
      "text/plain": [
       "<tf.Tensor: shape=(), dtype=int32, numpy=2>"
      ]
     },
     "execution_count": 132,
     "metadata": {},
     "output_type": "execute_result"
    }
   ],
   "source": [
    "tf.math.reduce_sum(yhat)"
   ]
  },
  {
   "cell_type": "code",
   "execution_count": 133,
   "id": "27c7ce25-7bed-4523-a441-ee357e07ac12",
   "metadata": {
    "execution": {
     "iopub.execute_input": "2022-05-29T16:30:05.928355Z",
     "iopub.status.busy": "2022-05-29T16:30:05.927802Z",
     "iopub.status.idle": "2022-05-29T16:30:05.934933Z",
     "shell.execute_reply": "2022-05-29T16:30:05.934241Z",
     "shell.execute_reply.started": "2022-05-29T16:30:05.928319Z"
    },
    "tags": []
   },
   "outputs": [
    {
     "data": {
      "text/plain": [
       "<tf.Tensor: shape=(), dtype=float32, numpy=2.0>"
      ]
     },
     "execution_count": 133,
     "metadata": {},
     "output_type": "execute_result"
    }
   ],
   "source": [
    "tf.math.reduce_sum(Y_test)"
   ]
  },
  {
   "cell_type": "code",
   "execution_count": 134,
   "id": "6cf883db-5af9-437f-ada2-259f8ef7a70c",
   "metadata": {
    "execution": {
     "iopub.execute_input": "2022-05-29T16:30:07.462499Z",
     "iopub.status.busy": "2022-05-29T16:30:07.462082Z",
     "iopub.status.idle": "2022-05-29T16:30:07.468736Z",
     "shell.execute_reply": "2022-05-29T16:30:07.468056Z",
     "shell.execute_reply.started": "2022-05-29T16:30:07.462453Z"
    },
    "tags": []
   },
   "outputs": [
    {
     "data": {
      "text/plain": [
       "array([1, 0, 0, 1])"
      ]
     },
     "execution_count": 134,
     "metadata": {},
     "output_type": "execute_result"
    }
   ],
   "source": [
    "Y_test.astype(int)"
   ]
  },
  {
   "cell_type": "markdown",
   "id": "527e77a0-62e9-4be7-9bc4-846e819fc62f",
   "metadata": {},
   "source": [
    "### Save the model as a JSON file\n",
    "\n",
    "From https://www.youtube.com/watch?v=mdkQ3s-u2cU&t=333s"
   ]
  },
  {
   "cell_type": "code",
   "execution_count": 73,
   "id": "0658e7e4-4d51-4b0f-9653-95a7d7bf00ce",
   "metadata": {
    "execution": {
     "iopub.execute_input": "2022-05-29T10:51:34.725393Z",
     "iopub.status.busy": "2022-05-29T10:51:34.724887Z",
     "iopub.status.idle": "2022-05-29T10:51:35.052888Z",
     "shell.execute_reply": "2022-05-29T10:51:35.051641Z",
     "shell.execute_reply.started": "2022-05-29T10:51:34.725340Z"
    },
    "tags": []
   },
   "outputs": [],
   "source": [
    "# Save the model as a json file\n",
    "model_json = model.to_json()\n",
    "with open('model.json', 'w') as file:\n",
    "    file.write(model_json)"
   ]
  },
  {
   "cell_type": "code",
   "execution_count": 74,
   "id": "7124514c-5d11-428a-83a7-2c4598272966",
   "metadata": {
    "execution": {
     "iopub.execute_input": "2022-05-29T10:51:35.191020Z",
     "iopub.status.busy": "2022-05-29T10:51:35.190593Z",
     "iopub.status.idle": "2022-05-29T10:51:35.473232Z",
     "shell.execute_reply": "2022-05-29T10:51:35.472485Z",
     "shell.execute_reply.started": "2022-05-29T10:51:35.190961Z"
    },
    "tags": []
   },
   "outputs": [],
   "source": [
    "# Store the training weigths in another file\n",
    "model.save_weights('weights.h5')"
   ]
  },
  {
   "cell_type": "code",
   "execution_count": 75,
   "id": "99e2a0a9-6ca5-4e34-b6ba-c50233c0c091",
   "metadata": {
    "execution": {
     "iopub.execute_input": "2022-05-29T10:51:35.533041Z",
     "iopub.status.busy": "2022-05-29T10:51:35.532627Z",
     "iopub.status.idle": "2022-05-29T10:51:35.628612Z",
     "shell.execute_reply": "2022-05-29T10:51:35.627469Z",
     "shell.execute_reply.started": "2022-05-29T10:51:35.532993Z"
    },
    "tags": []
   },
   "outputs": [],
   "source": [
    "# Let's try to load the model and the weights back into this notebook and make predictions with it\n",
    "from tensorflow.keras.models import model_from_json\n",
    "\n",
    "with open('model.json', 'r') as file:\n",
    "    model_json = file.read()\n",
    "    \n",
    "loaded_model = model_from_json(model_json)"
   ]
  },
  {
   "cell_type": "code",
   "execution_count": 76,
   "id": "c25a0a9b-3cd2-4a2a-9e06-2c210ad5bcb7",
   "metadata": {
    "execution": {
     "iopub.execute_input": "2022-05-29T10:51:35.921929Z",
     "iopub.status.busy": "2022-05-29T10:51:35.921402Z",
     "iopub.status.idle": "2022-05-29T10:51:36.156206Z",
     "shell.execute_reply": "2022-05-29T10:51:36.154532Z",
     "shell.execute_reply.started": "2022-05-29T10:51:35.921878Z"
    },
    "tags": []
   },
   "outputs": [],
   "source": [
    "loaded_model.load_weights('weights.h5')"
   ]
  },
  {
   "cell_type": "code",
   "execution_count": 77,
   "id": "04f97f9d-9aff-42dc-a212-aff8a9602782",
   "metadata": {
    "execution": {
     "iopub.execute_input": "2022-05-29T10:51:36.431756Z",
     "iopub.status.busy": "2022-05-29T10:51:36.431189Z",
     "iopub.status.idle": "2022-05-29T10:51:36.540724Z",
     "shell.execute_reply": "2022-05-29T10:51:36.540100Z",
     "shell.execute_reply.started": "2022-05-29T10:51:36.431694Z"
    },
    "tags": []
   },
   "outputs": [
    {
     "name": "stdout",
     "output_type": "stream",
     "text": [
      "1/1 [==============================] - 0s 68ms/step\n"
     ]
    }
   ],
   "source": [
    "# Now, we can use the newly loaded model to predict X_test as we did above\n",
    "yhat_from_jsonfile = loaded_model.predict(X_test)"
   ]
  },
  {
   "cell_type": "code",
   "execution_count": 78,
   "id": "c27e5321-de9e-4199-8447-42a8c9821deb",
   "metadata": {
    "execution": {
     "iopub.execute_input": "2022-05-29T10:51:37.011695Z",
     "iopub.status.busy": "2022-05-29T10:51:37.011231Z",
     "iopub.status.idle": "2022-05-29T10:51:37.175737Z",
     "shell.execute_reply": "2022-05-29T10:51:37.174500Z",
     "shell.execute_reply.started": "2022-05-29T10:51:37.011643Z"
    },
    "tags": []
   },
   "outputs": [
    {
     "data": {
      "text/plain": [
       "array([[0.69380987],\n",
       "       [0.69380987],\n",
       "       [0.69380987],\n",
       "       [0.69380987]], dtype=float32)"
      ]
     },
     "execution_count": 78,
     "metadata": {},
     "output_type": "execute_result"
    }
   ],
   "source": [
    "yhat_from_jsonfile"
   ]
  },
  {
   "cell_type": "code",
   "execution_count": 79,
   "id": "fcd0d407-4b88-464a-b028-be7b143b75b0",
   "metadata": {
    "execution": {
     "iopub.execute_input": "2022-05-29T10:51:37.652118Z",
     "iopub.status.busy": "2022-05-29T10:51:37.651635Z",
     "iopub.status.idle": "2022-05-29T10:51:37.732041Z",
     "shell.execute_reply": "2022-05-29T10:51:37.731456Z",
     "shell.execute_reply.started": "2022-05-29T10:51:37.652066Z"
    },
    "tags": []
   },
   "outputs": [
    {
     "name": "stdout",
     "output_type": "stream",
     "text": [
      "1/1 [==============================] - 0s 36ms/step - loss: 0.7746 - recall_1: 1.0000 - precision_1: 0.5000\n",
      "Test loss:  0.7745532393455505\n",
      "Test accuracy:  1.0\n",
      "Test prediction:  0.5\n"
     ]
    }
   ],
   "source": [
    "score = model.evaluate(x = X_test, y = Y_test)\n",
    "print('Test loss: ', score[0])\n",
    "print('Test accuracy: ', score[1])\n",
    "print('Test prediction: ', score[2])"
   ]
  },
  {
   "cell_type": "code",
   "execution_count": null,
   "id": "6cd64400-e0f0-4ef6-9c7e-0bc6746160cf",
   "metadata": {},
   "outputs": [],
   "source": []
  }
 ],
 "metadata": {
  "kernelspec": {
   "display_name": "Python 3 ",
   "language": "python",
   "name": "python3"
  },
  "language_info": {
   "codemirror_mode": {
    "name": "ipython",
    "version": 3
   },
   "file_extension": ".py",
   "mimetype": "text/x-python",
   "name": "python",
   "nbconvert_exporter": "python",
   "pygments_lexer": "ipython3",
   "version": "3.9.10"
  }
 },
 "nbformat": 4,
 "nbformat_minor": 5
}
